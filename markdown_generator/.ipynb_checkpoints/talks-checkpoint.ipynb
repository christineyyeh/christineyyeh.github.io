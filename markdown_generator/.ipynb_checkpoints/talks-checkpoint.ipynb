{
 "cells": [
  {
   "cell_type": "markdown",
   "metadata": {},
   "source": [
    "# Talks markdown generator for academicpages\n",
    "\n",
    "Takes a TSV of talks with metadata and converts them for use with [academicpages.github.io](academicpages.github.io). This is an interactive Jupyter notebook ([see more info here](http://jupyter-notebook-beginner-guide.readthedocs.io/en/latest/what_is_jupyter.html)). The core python code is also in `talks.py`. Run either from the `markdown_generator` folder after replacing `talks.tsv` with one containing your data.\n",
    "\n",
    "TODO: Make this work with BibTex and other databases, rather than Stuart's non-standard TSV format and citation style."
   ]
  },
  {
   "cell_type": "code",
   "execution_count": 12,
   "metadata": {},
   "outputs": [],
   "source": [
    "import pandas as pd\n",
    "import os"
   ]
  },
  {
   "cell_type": "markdown",
   "metadata": {},
   "source": [
    "## Data format\n",
    "\n",
    "The TSV needs to have the following columns: title, type, url_slug, venue, date, location, talk_url, description, with a header at the top. Many of these fields can be blank, but the columns must be in the TSV.\n",
    "\n",
    "- Fields that cannot be blank: `title`, `url_slug`, `date`. All else can be blank. `type` defaults to \"Talk\" \n",
    "- `date` must be formatted as YYYY-MM-DD.\n",
    "- `url_slug` will be the descriptive part of the .md file and the permalink URL for the page about the paper. \n",
    "    - The .md file will be `YYYY-MM-DD-[url_slug].md` and the permalink will be `https://[yourdomain]/talks/YYYY-MM-DD-[url_slug]`\n",
    "    - The combination of `url_slug` and `date` must be unique, as it will be the basis for your filenames\n",
    "\n",
    "This is how the raw file looks (it doesn't look pretty, use a spreadsheet or other program to edit and create)."
   ]
  },
  {
   "cell_type": "code",
   "execution_count": 13,
   "metadata": {},
   "outputs": [
    {
     "name": "stdout",
     "output_type": "stream",
     "text": [
      "title\ttype\turl_slug\tvenue\tdate\tlocation\ttalk_url\tdescription\r",
      "\r\n",
      "The DFG motif controls WPD loop transitions in the catalytic mechanism of Protein Tyrosine Phosphatase 1B\tConference Poster\t2019_BPS\t\"The Biophysical Society Annual Meeting,\"\t2019-03-01\t\"Baltimare, MD\"\t\t\r",
      "\r\n",
      "Drug Discovery in 4D: Supercomputing fragment binding to Protein Tyrosine Phosphatase 1B\tConference Poster\t2018_BigData\tBig Data in Precision Health Conference\t2018-03-01\t\"Stanford, CA\"\t\t\r",
      "\r\n",
      "Uncovering the molecular underpinnings of NGLY1 disease through personalized proteomics and glycoproteomics\tConference Talk\t2017_HUPO\tHuman Proteome World Congress\t2018-02-01\t\"Dublin, Ireland\"\t\t\r",
      "\r\n",
      "Vitamin D supplementation decreases serum 27-hydroxycholesterol and expression of CYP27A1 in tumors of breast cancer patients\tConference Poster\t2017_Canary\tCanary Symposium for Early Cancer Detection\t2017-03-01\t\"Stanford, CA\"\t\t\r",
      "\r\n",
      "Integrating glycoproteomics in the comprehensive multi-omics profiling of obesity-mediated progression to type II diabetes\tConference Poster\t2016_HUPO\tHuman Proteome World Congress\t2017-03-01\t\"Taipei, Taiwan\"\t\t\r",
      "\r\n",
      "Characterizing the interactome of human protein arginine methyltransferases with affinity purification mass-spectrometry\tConference Poster\t2016_Gene\tGenentech Summer Symposium\t2016-03-01\t\"South San Franscisco, CA\"\t\t\r",
      "\r\n",
      "Integrating glycoproteomics in the comprehensive multi-omics profiling of obesity-mediated progression to type II diabetes\tConference Poster\t2016_ASMS\tAmerican Society of Mass Spectrometry Annual Meeting\t2016-03-01\t\"San Antonio, TX\"\t\t\r",
      "\r\n",
      "Translating integrative personalized omics profiling in type II diabetes and other metabolic diseases\tConference Talk\t2015_HUPO\tHuman Proteome World Congress\t2015-03-01\t\"Vancouver, Canada\"\t\t"
     ]
    }
   ],
   "source": [
    "!cat talks.tsv"
   ]
  },
  {
   "cell_type": "markdown",
   "metadata": {},
   "source": [
    "## Import TSV\n",
    "\n",
    "Pandas makes this easy with the read_csv function. We are using a TSV, so we specify the separator as a tab, or `\\t`.\n",
    "\n",
    "I found it important to put this data in a tab-separated values format, because there are a lot of commas in this kind of data and comma-separated values can get messed up. However, you can modify the import statement, as pandas also has read_excel(), read_json(), and others."
   ]
  },
  {
   "cell_type": "code",
   "execution_count": 14,
   "metadata": {},
   "outputs": [
    {
     "data": {
      "text/html": [
       "<div>\n",
       "<style scoped>\n",
       "    .dataframe tbody tr th:only-of-type {\n",
       "        vertical-align: middle;\n",
       "    }\n",
       "\n",
       "    .dataframe tbody tr th {\n",
       "        vertical-align: top;\n",
       "    }\n",
       "\n",
       "    .dataframe thead th {\n",
       "        text-align: right;\n",
       "    }\n",
       "</style>\n",
       "<table border=\"1\" class=\"dataframe\">\n",
       "  <thead>\n",
       "    <tr style=\"text-align: right;\">\n",
       "      <th></th>\n",
       "      <th>title</th>\n",
       "      <th>type</th>\n",
       "      <th>url_slug</th>\n",
       "      <th>venue</th>\n",
       "      <th>date</th>\n",
       "      <th>location</th>\n",
       "      <th>talk_url</th>\n",
       "      <th>description</th>\n",
       "    </tr>\n",
       "  </thead>\n",
       "  <tbody>\n",
       "    <tr>\n",
       "      <th>0</th>\n",
       "      <td>The DFG motif controls WPD loop transitions in...</td>\n",
       "      <td>Conference Poster</td>\n",
       "      <td>2019_BPS</td>\n",
       "      <td>The Biophysical Society Annual Meeting,</td>\n",
       "      <td>2019-03-01</td>\n",
       "      <td>Baltimare, MD</td>\n",
       "      <td>NaN</td>\n",
       "      <td>NaN</td>\n",
       "    </tr>\n",
       "    <tr>\n",
       "      <th>1</th>\n",
       "      <td>Drug Discovery in 4D: Supercomputing fragment ...</td>\n",
       "      <td>Conference Poster</td>\n",
       "      <td>2018_BigData</td>\n",
       "      <td>Big Data in Precision Health Conference</td>\n",
       "      <td>2018-03-01</td>\n",
       "      <td>Stanford, CA</td>\n",
       "      <td>NaN</td>\n",
       "      <td>NaN</td>\n",
       "    </tr>\n",
       "    <tr>\n",
       "      <th>2</th>\n",
       "      <td>Uncovering the molecular underpinnings of NGLY...</td>\n",
       "      <td>Conference Talk</td>\n",
       "      <td>2017_HUPO</td>\n",
       "      <td>Human Proteome World Congress</td>\n",
       "      <td>2018-02-01</td>\n",
       "      <td>Dublin, Ireland</td>\n",
       "      <td>NaN</td>\n",
       "      <td>NaN</td>\n",
       "    </tr>\n",
       "    <tr>\n",
       "      <th>3</th>\n",
       "      <td>Vitamin D supplementation decreases serum 27-h...</td>\n",
       "      <td>Conference Poster</td>\n",
       "      <td>2017_Canary</td>\n",
       "      <td>Canary Symposium for Early Cancer Detection</td>\n",
       "      <td>2017-03-01</td>\n",
       "      <td>Stanford, CA</td>\n",
       "      <td>NaN</td>\n",
       "      <td>NaN</td>\n",
       "    </tr>\n",
       "    <tr>\n",
       "      <th>4</th>\n",
       "      <td>Integrating glycoproteomics in the comprehensi...</td>\n",
       "      <td>Conference Poster</td>\n",
       "      <td>2016_HUPO</td>\n",
       "      <td>Human Proteome World Congress</td>\n",
       "      <td>2017-03-01</td>\n",
       "      <td>Taipei, Taiwan</td>\n",
       "      <td>NaN</td>\n",
       "      <td>NaN</td>\n",
       "    </tr>\n",
       "    <tr>\n",
       "      <th>5</th>\n",
       "      <td>Characterizing the interactome of human protei...</td>\n",
       "      <td>Conference Poster</td>\n",
       "      <td>2016_Gene</td>\n",
       "      <td>Genentech Summer Symposium</td>\n",
       "      <td>2016-03-01</td>\n",
       "      <td>South San Franscisco, CA</td>\n",
       "      <td>NaN</td>\n",
       "      <td>NaN</td>\n",
       "    </tr>\n",
       "    <tr>\n",
       "      <th>6</th>\n",
       "      <td>Integrating glycoproteomics in the comprehensi...</td>\n",
       "      <td>Conference Poster</td>\n",
       "      <td>2016_ASMS</td>\n",
       "      <td>American Society of Mass Spectrometry Annual M...</td>\n",
       "      <td>2016-03-01</td>\n",
       "      <td>San Antonio, TX</td>\n",
       "      <td>NaN</td>\n",
       "      <td>NaN</td>\n",
       "    </tr>\n",
       "    <tr>\n",
       "      <th>7</th>\n",
       "      <td>Translating integrative personalized omics pro...</td>\n",
       "      <td>Conference Talk</td>\n",
       "      <td>2015_HUPO</td>\n",
       "      <td>Human Proteome World Congress</td>\n",
       "      <td>2015-03-01</td>\n",
       "      <td>Vancouver, Canada</td>\n",
       "      <td>NaN</td>\n",
       "      <td>NaN</td>\n",
       "    </tr>\n",
       "  </tbody>\n",
       "</table>\n",
       "</div>"
      ],
      "text/plain": [
       "                                               title               type  \\\n",
       "0  The DFG motif controls WPD loop transitions in...  Conference Poster   \n",
       "1  Drug Discovery in 4D: Supercomputing fragment ...  Conference Poster   \n",
       "2  Uncovering the molecular underpinnings of NGLY...    Conference Talk   \n",
       "3  Vitamin D supplementation decreases serum 27-h...  Conference Poster   \n",
       "4  Integrating glycoproteomics in the comprehensi...  Conference Poster   \n",
       "5  Characterizing the interactome of human protei...  Conference Poster   \n",
       "6  Integrating glycoproteomics in the comprehensi...  Conference Poster   \n",
       "7  Translating integrative personalized omics pro...    Conference Talk   \n",
       "\n",
       "       url_slug                                              venue  \\\n",
       "0      2019_BPS            The Biophysical Society Annual Meeting,   \n",
       "1  2018_BigData            Big Data in Precision Health Conference   \n",
       "2     2017_HUPO                      Human Proteome World Congress   \n",
       "3   2017_Canary        Canary Symposium for Early Cancer Detection   \n",
       "4     2016_HUPO                      Human Proteome World Congress   \n",
       "5     2016_Gene                         Genentech Summer Symposium   \n",
       "6     2016_ASMS  American Society of Mass Spectrometry Annual M...   \n",
       "7     2015_HUPO                      Human Proteome World Congress   \n",
       "\n",
       "         date                  location  talk_url  description  \n",
       "0  2019-03-01             Baltimare, MD       NaN          NaN  \n",
       "1  2018-03-01              Stanford, CA       NaN          NaN  \n",
       "2  2018-02-01           Dublin, Ireland       NaN          NaN  \n",
       "3  2017-03-01              Stanford, CA       NaN          NaN  \n",
       "4  2017-03-01            Taipei, Taiwan       NaN          NaN  \n",
       "5  2016-03-01  South San Franscisco, CA       NaN          NaN  \n",
       "6  2016-03-01           San Antonio, TX       NaN          NaN  \n",
       "7  2015-03-01         Vancouver, Canada       NaN          NaN  "
      ]
     },
     "execution_count": 14,
     "metadata": {},
     "output_type": "execute_result"
    }
   ],
   "source": [
    "talks = pd.read_csv(\"talks.tsv\", sep=\"\\t\", header=0)\n",
    "talks"
   ]
  },
  {
   "cell_type": "markdown",
   "metadata": {},
   "source": [
    "## Escape special characters\n",
    "\n",
    "YAML is very picky about how it takes a valid string, so we are replacing single and double quotes (and ampersands) with their HTML encoded equivilents. This makes them look not so readable in raw format, but they are parsed and rendered nicely."
   ]
  },
  {
   "cell_type": "code",
   "execution_count": 15,
   "metadata": {},
   "outputs": [],
   "source": [
    "html_escape_table = {\n",
    "    \"&\": \"&amp;\",\n",
    "    '\"': \"&quot;\",\n",
    "    \"'\": \"&apos;\"\n",
    "    }\n",
    "\n",
    "def html_escape(text):\n",
    "    if type(text) is str:\n",
    "        return \"\".join(html_escape_table.get(c,c) for c in text)\n",
    "    else:\n",
    "        return \"False\""
   ]
  },
  {
   "cell_type": "markdown",
   "metadata": {},
   "source": [
    "## Creating the markdown files\n",
    "\n",
    "This is where the heavy lifting is done. This loops through all the rows in the TSV dataframe, then starts to concatentate a big string (```md```) that contains the markdown for each type. It does the YAML metadata first, then does the description for the individual page."
   ]
  },
  {
   "cell_type": "code",
   "execution_count": 16,
   "metadata": {},
   "outputs": [],
   "source": [
    "loc_dict = {}\n",
    "\n",
    "for row, item in talks.iterrows():\n",
    "    \n",
    "    md_filename = str(item.date) + \"-\" + item.url_slug + \".md\"\n",
    "    html_filename = str(item.date) + \"-\" + item.url_slug \n",
    "    year = item.date[:4]\n",
    "    \n",
    "    md = \"---\\ntitle: \\\"\"   + item.title + '\"\\n'\n",
    "    md += \"collection: talks\" + \"\\n\"\n",
    "    \n",
    "    if len(str(item.type)) > 3:\n",
    "        md += 'type: \"' + item.type + '\"\\n'\n",
    "    else:\n",
    "        md += 'type: \"Talk\"\\n'\n",
    "    \n",
    "    md += \"permalink: /talks/\" + html_filename + \"\\n\"\n",
    "    \n",
    "    if len(str(item.venue)) > 3:\n",
    "        md += 'venue: \"' + item.venue + '\"\\n'\n",
    "        \n",
    "    if len(str(item.location)) > 3:\n",
    "        md += \"date: \" + str(item.date) + \"\\n\"\n",
    "    \n",
    "    if len(str(item.location)) > 3:\n",
    "        md += 'location: \"' + str(item.location) + '\"\\n'\n",
    "           \n",
    "    md += \"---\\n\"\n",
    "    \n",
    "    \n",
    "    if len(str(item.talk_url)) > 3:\n",
    "        md += \"\\n[More information here](\" + item.talk_url + \")\\n\" \n",
    "        \n",
    "    \n",
    "    if len(str(item.description)) > 3:\n",
    "        md += \"\\n\" + html_escape(item.description) + \"\\n\"\n",
    "        \n",
    "        \n",
    "    md_filename = os.path.basename(md_filename)\n",
    "    #print(md)\n",
    "    \n",
    "    with open(\"../_talks/\" + md_filename, 'w') as f:\n",
    "        f.write(md)"
   ]
  },
  {
   "cell_type": "markdown",
   "metadata": {},
   "source": [
    "These files are in the talks directory, one directory below where we're working from."
   ]
  },
  {
   "cell_type": "code",
   "execution_count": 17,
   "metadata": {},
   "outputs": [
    {
     "name": "stdout",
     "output_type": "stream",
     "text": [
      "15-2015_HUPO.md            2014-02-01-talk-2.md\r\n",
      "16-2016_ASMS.md            2014-03-01-talk-3.md\r\n",
      "16-2016_Gene.md            2015-03-01-2015_HUPO.md\r\n",
      "17-2016_HUPO.md            2016-03-01-2016_ASMS.md\r\n",
      "17-2017_Canary.md          2016-03-01-2016_Gene.md\r\n",
      "18-2017_HUPO.md            2017-03-01-2016_HUPO.md\r\n",
      "18-2018_BigData.md         2017-03-01-2017_Canary.md\r\n",
      "19-2019_BPS.md             2018-02-01-2017_HUPO.md\r\n",
      "2012-03-01-talk-1.md       2018-03-01-2018_BigData.md\r\n",
      "2013-03-01-tutorial-1.md   2019-03-01-2019_BPS.md\r\n"
     ]
    }
   ],
   "source": [
    "!ls ../_talks"
   ]
  },
  {
   "cell_type": "code",
   "execution_count": 20,
   "metadata": {},
   "outputs": [
    {
     "name": "stdout",
     "output_type": "stream",
     "text": [
      "---\r\n",
      "title: \"Translating integrative personalized omics profiling in type II diabetes and other metabolic diseases\"\r\n",
      "collection: talks\r\n",
      "type: \"Conference Talk\"\r\n",
      "permalink: /talks/2015-03-01-2015_HUPO\r\n",
      "venue: \"Human Proteome World Congress\"\r\n",
      "date: 2015-03-01\r\n",
      "location: \"Vancouver, Canada\"\r\n",
      "---\r\n"
     ]
    }
   ],
   "source": [
    "!cat ../_talks/2015-03-01-2015_HUPO.md"
   ]
  },
  {
   "cell_type": "code",
   "execution_count": null,
   "metadata": {},
   "outputs": [],
   "source": []
  }
 ],
 "metadata": {
  "kernelspec": {
   "display_name": "Python 3 (ipykernel)",
   "language": "python",
   "name": "python3"
  },
  "language_info": {
   "codemirror_mode": {
    "name": "ipython",
    "version": 3
   },
   "file_extension": ".py",
   "mimetype": "text/x-python",
   "name": "python",
   "nbconvert_exporter": "python",
   "pygments_lexer": "ipython3",
   "version": "3.9.13"
  }
 },
 "nbformat": 4,
 "nbformat_minor": 1
}
