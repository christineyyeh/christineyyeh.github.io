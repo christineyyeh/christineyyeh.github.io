{
 "cells": [
  {
   "cell_type": "markdown",
   "metadata": {},
   "source": [
    "# Publications markdown generator for academicpages\n",
    "\n",
    "Takes a TSV of publications with metadata and converts them for use with [academicpages.github.io](academicpages.github.io). This is an interactive Jupyter notebook ([see more info here](http://jupyter-notebook-beginner-guide.readthedocs.io/en/latest/what_is_jupyter.html)). The core python code is also in `publications.py`. Run either from the `markdown_generator` folder after replacing `publications.tsv` with one containing your data.\n",
    "\n",
    "TODO: Make this work with BibTex and other databases of citations, rather than Stuart's non-standard TSV format and citation style.\n"
   ]
  },
  {
   "cell_type": "markdown",
   "metadata": {},
   "source": [
    "## Data format\n",
    "\n",
    "The TSV needs to have the following columns: pub_date, title, venue, excerpt, citation, site_url, and paper_url, with a header at the top. \n",
    "\n",
    "- `excerpt` and `paper_url` can be blank, but the others must have values. \n",
    "- `pub_date` must be formatted as YYYY-MM-DD.\n",
    "- `url_slug` will be the descriptive part of the .md file and the permalink URL for the page about the paper. The .md file will be `YYYY-MM-DD-[url_slug].md` and the permalink will be `https://[yourdomain]/publications/YYYY-MM-DD-[url_slug]`\n",
    "\n",
    "This is how the raw file looks (it doesn't look pretty, use a spreadsheet or other program to edit and create)."
   ]
  },
  {
   "cell_type": "code",
   "execution_count": 35,
   "metadata": {},
   "outputs": [
    {
     "name": "stdout",
     "output_type": "stream",
     "text": [
      "pub_date\ttitle\tvenue\texcerpt\tcitation\turl_slug\tpaper_url\r",
      "\r\n",
      "2018-02-28\tIntegrative personal omics profiles during periods of weight gain and loss\tCell Systems\t\t\"Brian D Piening, Wenyu Zhou, K�vin Contrepois, Hannes R�st, Gucci Jijuan Gu Urban, Tejaswini Mishra, Blake M Hanson, Eddy J Bautista, Shana Leopold, Christine Y Yeh, Daniel Spakowicz, Imon Banerjee, Cynthia Chen, Kimberly Kukurba, Dalia Perelman, Colleen Craig, Elizabeth Colbert, Denis Salins, Shannon Rego, Sunjae Lee, Cheng Zhang, Jessica Wheeler, M Reza Sailani, Liang Liang, Charles Abbott, Mark Gerstein, Adil Mardinoglu, Ulf Smith, Daniel L Rubin, Sharon Pitteri, Erica Sodergren, Tracey L McLaughlin, George M Weinstock, Michael P Snyder\"\t2018_Cell_Systems\thttp://christineyyeh.github.io/files/2018_Cell_Systems.pdf\r",
      "\r\n",
      "2017-11-07\tVitamin D supplementation decreases serum 27-hydroxycholesterol in a pilot breast cancer trial\tBreast Cancer Research and Treatment\t\t\"Catherine C Going, Ludmila Alexandrova, Kenneth Lau, Christine Y Yeh, David Feldman, Sharon J Pitteri\"\t2017_BCRT\thttp://christineyyeh.github.io/files/2017_BCRT.pdf\r",
      "\r\n",
      "2017-10-17\tAssessing biological and technological variability in protein levels measured in pre-diagnostic plasma samples of women with breast cancer\tBiomarker Research\t\t\"Christine Y Yeh, Ravali Adusumilli, Majlinda Kullolli, Parag Mallick, Esther M John, Sharon J Pitteri\"\t2017_Biomarker_Research\thttp://christineyyeh.github.io/files/2017_Biomarker_Research.pdf\r",
      "\r\n",
      "2022-03-18\tReconstructing codependent cellular cross-talk in lung adenocarcinoma using REMI\tScience Advances\t\t\"Alice Yu, Yuanyuan Li, Irene Li, Michael G Ozawa, Christine Y Yeh, Aaron E Chiou, Winston L Trope, Jonathan Taylor, Joseph Shrager, Sylvia K Plevritis\"\t2022_Science_Advances\thttp://christineyyeh.github.io/files/2022_Science_Advances.pdf"
     ]
    }
   ],
   "source": [
    "!cat publications.tsv"
   ]
  },
  {
   "cell_type": "markdown",
   "metadata": {},
   "source": [
    "## Import pandas\n",
    "\n",
    "We are using the very handy pandas library for dataframes."
   ]
  },
  {
   "cell_type": "code",
   "execution_count": 36,
   "metadata": {},
   "outputs": [],
   "source": [
    "import pandas as pd"
   ]
  },
  {
   "cell_type": "markdown",
   "metadata": {},
   "source": [
    "## Import TSV\n",
    "\n",
    "Pandas makes this easy with the read_csv function. We are using a TSV, so we specify the separator as a tab, or `\\t`.\n",
    "\n",
    "I found it important to put this data in a tab-separated values format, because there are a lot of commas in this kind of data and comma-separated values can get messed up. However, you can modify the import statement, as pandas also has read_excel(), read_json(), and others."
   ]
  },
  {
   "cell_type": "code",
   "execution_count": 66,
   "metadata": {},
   "outputs": [
    {
     "data": {
      "text/html": [
       "<div>\n",
       "<style scoped>\n",
       "    .dataframe tbody tr th:only-of-type {\n",
       "        vertical-align: middle;\n",
       "    }\n",
       "\n",
       "    .dataframe tbody tr th {\n",
       "        vertical-align: top;\n",
       "    }\n",
       "\n",
       "    .dataframe thead th {\n",
       "        text-align: right;\n",
       "    }\n",
       "</style>\n",
       "<table border=\"1\" class=\"dataframe\">\n",
       "  <thead>\n",
       "    <tr style=\"text-align: right;\">\n",
       "      <th></th>\n",
       "      <th>pub_date</th>\n",
       "      <th>title</th>\n",
       "      <th>venue</th>\n",
       "      <th>excerpt</th>\n",
       "      <th>citation</th>\n",
       "      <th>url_slug</th>\n",
       "      <th>paper_url</th>\n",
       "      <th>doi</th>\n",
       "    </tr>\n",
       "  </thead>\n",
       "  <tbody>\n",
       "    <tr>\n",
       "      <th>0</th>\n",
       "      <td>2018-02-28</td>\n",
       "      <td>Integrative personal omics profiles during per...</td>\n",
       "      <td>Cell Systems</td>\n",
       "      <td>\"\"</td>\n",
       "      <td>Brian D Piening, Wenyu Zhou, Kévin Contrepois,...</td>\n",
       "      <td>2018_Cell_Systems</td>\n",
       "      <td>http://christineyyeh.github.io/files/2018_Cell...</td>\n",
       "      <td>https://doi.org/10.1016/j.cels.2017.12.013</td>\n",
       "    </tr>\n",
       "    <tr>\n",
       "      <th>1</th>\n",
       "      <td>2017-11-07</td>\n",
       "      <td>Vitamin D supplementation decreases serum 27-h...</td>\n",
       "      <td>Breast Cancer Research and Treatment</td>\n",
       "      <td>\"\"</td>\n",
       "      <td>Catherine C Going, Ludmila Alexandrova, Kennet...</td>\n",
       "      <td>2017_BCRT</td>\n",
       "      <td>http://christineyyeh.github.io/files/2017_BCRT...</td>\n",
       "      <td>https://doi.org/10.1007/s10549-017-4562-4</td>\n",
       "    </tr>\n",
       "    <tr>\n",
       "      <th>2</th>\n",
       "      <td>2017-10-17</td>\n",
       "      <td>Assessing biological and technological variabi...</td>\n",
       "      <td>Biomarker Research</td>\n",
       "      <td>\"\"</td>\n",
       "      <td>&lt;u&gt;**Christine Y Yeh**&lt;u&gt;, Ravali Adusumilli, ...</td>\n",
       "      <td>2017_Biomarker_Research</td>\n",
       "      <td>http://christineyyeh.github.io/files/2017_Biom...</td>\n",
       "      <td>https://doi.org/10.1186/s40364-017-0110-y</td>\n",
       "    </tr>\n",
       "    <tr>\n",
       "      <th>3</th>\n",
       "      <td>2022-03-18</td>\n",
       "      <td>Reconstructing codependent cellular cross-talk...</td>\n",
       "      <td>Science Advances</td>\n",
       "      <td>\"\"</td>\n",
       "      <td>Alice Yu, Yuanyuan Li, Irene Li, Michael G Oza...</td>\n",
       "      <td>2022_Science_Advances</td>\n",
       "      <td>http://christineyyeh.github.io/files/2022_Scie...</td>\n",
       "      <td>https://www.science.org/doi/10.1126/sciadv.abi...</td>\n",
       "    </tr>\n",
       "  </tbody>\n",
       "</table>\n",
       "</div>"
      ],
      "text/plain": [
       "     pub_date                                              title  \\\n",
       "0  2018-02-28  Integrative personal omics profiles during per...   \n",
       "1  2017-11-07  Vitamin D supplementation decreases serum 27-h...   \n",
       "2  2017-10-17  Assessing biological and technological variabi...   \n",
       "3  2022-03-18  Reconstructing codependent cellular cross-talk...   \n",
       "\n",
       "                                  venue excerpt  \\\n",
       "0                          Cell Systems      \"\"   \n",
       "1  Breast Cancer Research and Treatment      \"\"   \n",
       "2                    Biomarker Research      \"\"   \n",
       "3                      Science Advances      \"\"   \n",
       "\n",
       "                                            citation                 url_slug  \\\n",
       "0  Brian D Piening, Wenyu Zhou, Kévin Contrepois,...        2018_Cell_Systems   \n",
       "1  Catherine C Going, Ludmila Alexandrova, Kennet...                2017_BCRT   \n",
       "2  <u>**Christine Y Yeh**<u>, Ravali Adusumilli, ...  2017_Biomarker_Research   \n",
       "3  Alice Yu, Yuanyuan Li, Irene Li, Michael G Oza...    2022_Science_Advances   \n",
       "\n",
       "                                           paper_url  \\\n",
       "0  http://christineyyeh.github.io/files/2018_Cell...   \n",
       "1  http://christineyyeh.github.io/files/2017_BCRT...   \n",
       "2  http://christineyyeh.github.io/files/2017_Biom...   \n",
       "3  http://christineyyeh.github.io/files/2022_Scie...   \n",
       "\n",
       "                                                 doi  \n",
       "0         https://doi.org/10.1016/j.cels.2017.12.013  \n",
       "1          https://doi.org/10.1007/s10549-017-4562-4  \n",
       "2          https://doi.org/10.1186/s40364-017-0110-y  \n",
       "3  https://www.science.org/doi/10.1126/sciadv.abi...  "
      ]
     },
     "execution_count": 66,
     "metadata": {},
     "output_type": "execute_result"
    }
   ],
   "source": [
    "publications = pd.read_csv(\"../markdown_generator/publications.csv\")\n",
    "publications\n"
   ]
  },
  {
   "cell_type": "markdown",
   "metadata": {},
   "source": [
    "## Escape special characters\n",
    "\n",
    "YAML is very picky about how it takes a valid string, so we are replacing single and double quotes (and ampersands) with their HTML encoded equivilents. This makes them look not so readable in raw format, but they are parsed and rendered nicely."
   ]
  },
  {
   "cell_type": "code",
   "execution_count": 67,
   "metadata": {},
   "outputs": [],
   "source": [
    "html_escape_table = {\n",
    "    \"&\": \"&amp;\",\n",
    "    '\"': \"&quot;\",\n",
    "    \"'\": \"&apos;\"\n",
    "    }\n",
    "\n",
    "def html_escape(text):\n",
    "    \"\"\"Produce entities within text.\"\"\"\n",
    "    return \"\".join(html_escape_table.get(c,c) for c in text)"
   ]
  },
  {
   "cell_type": "markdown",
   "metadata": {},
   "source": [
    "## Creating the markdown files\n",
    "\n",
    "This is where the heavy lifting is done. This loops through all the rows in the TSV dataframe, then starts to concatentate a big string (```md```) that contains the markdown for each type. It does the YAML metadata first, then does the description for the individual page."
   ]
  },
  {
   "cell_type": "code",
   "execution_count": 68,
   "metadata": {},
   "outputs": [],
   "source": [
    "import os\n",
    "for row, item in publications.iterrows():\n",
    "    \n",
    "    md_filename = str(item.pub_date) + \"-\" + item.url_slug + \".md\"\n",
    "    html_filename = str(item.pub_date) + \"-\" + item.url_slug\n",
    "    year = item.pub_date[:4]\n",
    "    \n",
    "    ## YAML variables\n",
    "    \n",
    "    md = \"---\\ntitle: \\\"\"   + item.title + '\"\\n'\n",
    "    \n",
    "    md += \"\"\"collection: publications\"\"\"\n",
    "    \n",
    "    md += \"\"\"\\npermalink: /publication/\"\"\" + html_filename\n",
    "    \n",
    "    if len(str(item.excerpt)) > 5:\n",
    "        md += \"\\nexcerpt: '\" + html_escape(item.excerpt) + \"'\"\n",
    "    \n",
    "    md += \"\\ndate: \" + str(item.pub_date) \n",
    "    \n",
    "    md += \"\\nvenue: '\" + html_escape(item.venue) + \"'\"\n",
    "    \n",
    "    if len(str(item.paper_url)) > 5:\n",
    "        md += \"\\npaperurl: '\" + item.doi + \"'\"\n",
    "    \n",
    "    md += \"\\n---\"\n",
    "    \n",
    "    ## Markdown description for individual page\n",
    "        \n",
    "    if len(str(item.excerpt)) > 5:\n",
    "        md += \"\\n\" + html_escape(item.excerpt) + \"\\n\"\n",
    "        \n",
    "    md += \"\\n\" + item.citation\n",
    "    \n",
    "    if len(str(item.paper_url)) > 5:\n",
    "        md += \"\\n\\n[Download PDF Here](\" + item.paper_url + \")\\n\" \n",
    "    \n",
    "    md_filename = os.path.basename(md_filename)\n",
    "       \n",
    "    with open(\"../_publications/\" + md_filename, 'w') as f:\n",
    "        f.write(md)"
   ]
  },
  {
   "cell_type": "markdown",
   "metadata": {},
   "source": [
    "These files are in the publications directory, one directory below where we're working from."
   ]
  },
  {
   "cell_type": "code",
   "execution_count": 69,
   "metadata": {},
   "outputs": [
    {
     "name": "stdout",
     "output_type": "stream",
     "text": [
      "2017-10-17-2017_Biomarker_Research.md 2018-02-28-2018_Cell_Systems.md\r\n",
      "2017-11-07-2017_BCRT.md               2022-03-18-2022_Science_Advances.md\r\n"
     ]
    }
   ],
   "source": [
    "!ls ../_publications/"
   ]
  },
  {
   "cell_type": "code",
   "execution_count": 70,
   "metadata": {},
   "outputs": [
    {
     "name": "stdout",
     "output_type": "stream",
     "text": [
      "---\r\n",
      "title: \"Reconstructing codependent cellular cross-talk in lung adenocarcinoma using REMI\"\r\n",
      "collection: publications\r\n",
      "permalink: /publication/2022-03-18-2022_Science_Advances\r\n",
      "date: 2022-03-18\r\n",
      "venue: 'Science Advances'\r\n",
      "paperurl: 'https://www.science.org/doi/10.1126/sciadv.abi4757'\r\n",
      "---\r\n",
      "Alice Yu, Yuanyuan Li, Irene Li, Michael G Ozawa, <u>**Christine Y Yeh**<u>, Aaron E Chiou, Winston L Trope, Jonathan Taylor, Joseph Shrager, Sylvia K Plevritis\r\n",
      "\r\n",
      "[Download PDF Here](http://christineyyeh.github.io/files/2022_Science_Advances.pdf)\r\n"
     ]
    }
   ],
   "source": [
    "!cat ../_publications/2022-03-18-2022_Science_Advances.md"
   ]
  },
  {
   "cell_type": "code",
   "execution_count": null,
   "metadata": {},
   "outputs": [],
   "source": []
  },
  {
   "cell_type": "code",
   "execution_count": null,
   "metadata": {},
   "outputs": [],
   "source": []
  },
  {
   "cell_type": "code",
   "execution_count": null,
   "metadata": {},
   "outputs": [],
   "source": []
  },
  {
   "cell_type": "code",
   "execution_count": null,
   "metadata": {},
   "outputs": [],
   "source": []
  },
  {
   "cell_type": "code",
   "execution_count": null,
   "metadata": {},
   "outputs": [],
   "source": []
  }
 ],
 "metadata": {
  "kernelspec": {
   "display_name": "Python 3 (ipykernel)",
   "language": "python",
   "name": "python3"
  },
  "language_info": {
   "codemirror_mode": {
    "name": "ipython",
    "version": 3
   },
   "file_extension": ".py",
   "mimetype": "text/x-python",
   "name": "python",
   "nbconvert_exporter": "python",
   "pygments_lexer": "ipython3",
   "version": "3.9.7"
  }
 },
 "nbformat": 4,
 "nbformat_minor": 1
}
